{
 "cells": [
  {
   "attachments": {},
   "cell_type": "markdown",
   "metadata": {},
   "source": [
    "### Packages"
   ]
  },
  {
   "cell_type": "code",
   "execution_count": 8,
   "metadata": {},
   "outputs": [
    {
     "name": "stdout",
     "output_type": "stream",
     "text": [
      "Note: you may need to restart the kernel to use updated packages.Requirement already satisfied: arch in c:\\users\\heber\\appdata\\local\\programs\\python\\python311\\lib\\site-packages (6.2.0)\n",
      "Requirement already satisfied: numpy>=1.19 in c:\\users\\heber\\appdata\\local\\programs\\python\\python311\\lib\\site-packages (from arch) (1.26.0)\n",
      "Requirement already satisfied: scipy>=1.5 in c:\\users\\heber\\appdata\\local\\programs\\python\\python311\\lib\\site-packages (from arch) (1.11.2)\n",
      "Requirement already satisfied: pandas>=1.1 in c:\\users\\heber\\appdata\\local\\programs\\python\\python311\\lib\\site-packages (from arch) (2.1.1)\n",
      "Requirement already satisfied: statsmodels>=0.12 in c:\\users\\heber\\appdata\\local\\programs\\python\\python311\\lib\\site-packages (from arch) (0.14.0)\n",
      "Requirement already satisfied: python-dateutil>=2.8.2 in c:\\users\\heber\\appdata\\roaming\\python\\python311\\site-packages (from pandas>=1.1->arch) (2.8.2)\n",
      "Requirement already satisfied: pytz>=2020.1 in c:\\users\\heber\\appdata\\local\\programs\\python\\python311\\lib\\site-packages (from pandas>=1.1->arch) (2023.3.post1)\n",
      "Requirement already satisfied: tzdata>=2022.1 in c:\\users\\heber\\appdata\\local\\programs\\python\\python311\\lib\\site-packages (from pandas>=1.1->arch) (2023.3)\n",
      "Requirement already satisfied: patsy>=0.5.2 in c:\\users\\heber\\appdata\\local\\programs\\python\\python311\\lib\\site-packages (from statsmodels>=0.12->arch) (0.5.3)\n",
      "Requirement already satisfied: packaging>=21.3 in c:\\users\\heber\\appdata\\roaming\\python\\python311\\site-packages (from statsmodels>=0.12->arch) (23.1)\n",
      "Requirement already satisfied: six in c:\\users\\heber\\appdata\\roaming\\python\\python311\\site-packages (from patsy>=0.5.2->statsmodels>=0.12->arch) (1.16.0)\n",
      "\n"
     ]
    },
    {
     "name": "stderr",
     "output_type": "stream",
     "text": [
      "\n",
      "[notice] A new release of pip available: 22.3.1 -> 23.2.1\n",
      "[notice] To update, run: python.exe -m pip install --upgrade pip\n"
     ]
    },
    {
     "name": "stdout",
     "output_type": "stream",
     "text": [
      "Requirement already satisfied: scikit-learn in c:\\users\\heber\\appdata\\local\\programs\\python\\python311\\lib\\site-packages (1.3.1)\n",
      "Requirement already satisfied: numpy<2.0,>=1.17.3 in c:\\users\\heber\\appdata\\local\\programs\\python\\python311\\lib\\site-packages (from scikit-learn) (1.26.0)\n",
      "Requirement already satisfied: scipy>=1.5.0 in c:\\users\\heber\\appdata\\local\\programs\\python\\python311\\lib\\site-packages (from scikit-learn) (1.11.2)\n",
      "Requirement already satisfied: joblib>=1.1.1 in c:\\users\\heber\\appdata\\local\\programs\\python\\python311\\lib\\site-packages (from scikit-learn) (1.3.2)\n",
      "Requirement already satisfied: threadpoolctl>=2.0.0 in c:\\users\\heber\\appdata\\local\\programs\\python\\python311\\lib\\site-packages (from scikit-learn) (3.2.0)\n",
      "Note: you may need to restart the kernel to use updated packages.\n"
     ]
    },
    {
     "name": "stderr",
     "output_type": "stream",
     "text": [
      "\n",
      "[notice] A new release of pip available: 22.3.1 -> 23.2.1\n",
      "[notice] To update, run: python.exe -m pip install --upgrade pip\n"
     ]
    },
    {
     "name": "stdout",
     "output_type": "stream",
     "text": [
      "Requirement already satisfied: yfinance in c:\\users\\heber\\appdata\\local\\programs\\python\\python311\\lib\\site-packages (0.2.28)\n",
      "Requirement already satisfied: pandas>=1.3.0 in c:\\users\\heber\\appdata\\local\\programs\\python\\python311\\lib\\site-packages (from yfinance) (2.1.1)\n",
      "Requirement already satisfied: numpy>=1.16.5 in c:\\users\\heber\\appdata\\local\\programs\\python\\python311\\lib\\site-packages (from yfinance) (1.26.0)\n",
      "Requirement already satisfied: requests>=2.31 in c:\\users\\heber\\appdata\\local\\programs\\python\\python311\\lib\\site-packages (from yfinance) (2.31.0)\n",
      "Requirement already satisfied: multitasking>=0.0.7 in c:\\users\\heber\\appdata\\local\\programs\\python\\python311\\lib\\site-packages (from yfinance) (0.0.11)\n",
      "Requirement already satisfied: lxml>=4.9.1 in c:\\users\\heber\\appdata\\local\\programs\\python\\python311\\lib\\site-packages (from yfinance) (4.9.3)\n",
      "Requirement already satisfied: appdirs>=1.4.4 in c:\\users\\heber\\appdata\\local\\programs\\python\\python311\\lib\\site-packages (from yfinance) (1.4.4)\n",
      "Requirement already satisfied: pytz>=2022.5 in c:\\users\\heber\\appdata\\local\\programs\\python\\python311\\lib\\site-packages (from yfinance) (2023.3.post1)\n",
      "Requirement already satisfied: frozendict>=2.3.4 in c:\\users\\heber\\appdata\\local\\programs\\python\\python311\\lib\\site-packages (from yfinance) (2.3.8)\n",
      "Requirement already satisfied: beautifulsoup4>=4.11.1 in c:\\users\\heber\\appdata\\local\\programs\\python\\python311\\lib\\site-packages (from yfinance) (4.12.2)\n",
      "Requirement already satisfied: html5lib>=1.1 in c:\\users\\heber\\appdata\\local\\programs\\python\\python311\\lib\\site-packages (from yfinance) (1.1)\n",
      "Requirement already satisfied: soupsieve>1.2 in c:\\users\\heber\\appdata\\local\\programs\\python\\python311\\lib\\site-packages (from beautifulsoup4>=4.11.1->yfinance) (2.5)\n",
      "Requirement already satisfied: six>=1.9 in c:\\users\\heber\\appdata\\roaming\\python\\python311\\site-packages (from html5lib>=1.1->yfinance) (1.16.0)\n",
      "Requirement already satisfied: webencodings in c:\\users\\heber\\appdata\\local\\programs\\python\\python311\\lib\\site-packages (from html5lib>=1.1->yfinance) (0.5.1)\n",
      "Requirement already satisfied: python-dateutil>=2.8.2 in c:\\users\\heber\\appdata\\roaming\\python\\python311\\site-packages (from pandas>=1.3.0->yfinance) (2.8.2)\n",
      "Requirement already satisfied: tzdata>=2022.1 in c:\\users\\heber\\appdata\\local\\programs\\python\\python311\\lib\\site-packages (from pandas>=1.3.0->yfinance) (2023.3)\n",
      "Requirement already satisfied: charset-normalizer<4,>=2 in c:\\users\\heber\\appdata\\local\\programs\\python\\python311\\lib\\site-packages (from requests>=2.31->yfinance) (3.2.0)\n",
      "Requirement already satisfied: idna<4,>=2.5 in c:\\users\\heber\\appdata\\local\\programs\\python\\python311\\lib\\site-packages (from requests>=2.31->yfinance) (3.4)\n",
      "Requirement already satisfied: urllib3<3,>=1.21.1 in c:\\users\\heber\\appdata\\local\\programs\\python\\python311\\lib\\site-packages (from requests>=2.31->yfinance) (2.0.5)\n",
      "Requirement already satisfied: certifi>=2017.4.17 in c:\\users\\heber\\appdata\\local\\programs\\python\\python311\\lib\\site-packages (from requests>=2.31->yfinance) (2023.7.22)\n",
      "Note: you may need to restart the kernel to use updated packages.\n"
     ]
    },
    {
     "name": "stderr",
     "output_type": "stream",
     "text": [
      "\n",
      "[notice] A new release of pip available: 22.3.1 -> 23.2.1\n",
      "[notice] To update, run: python.exe -m pip install --upgrade pip\n"
     ]
    }
   ],
   "source": [
    "%pip install arch\n",
    "%pip install scikit-learn\n",
    "%pip install yfinance"
   ]
  },
  {
   "cell_type": "code",
   "execution_count": 9,
   "metadata": {},
   "outputs": [],
   "source": [
    "import numpy as np\n",
    "import pandas as pd\n",
    "import scipy #módulos para optimización, álgebra lineal, estadísticas, procesamiento de señales, interpolación, transformadas de Fourier, entre otros.\n",
    "import statsmodels.api as sm\n",
    "import matplotlib.pyplot as plt\n",
    "import seaborn as sns\n",
    "import sklearn #herramientas y algoritmos simples y eficientes para la minería y el análisis de datos\n",
    "from statsmodels.tsa.arima_model import ARIMA\n",
    "from arch import arch_model\n",
    "import seaborn as sns\n",
    "import yfinance\n",
    "import warnings\n",
    "warnings.filterwarnings(\"ignore\")\n",
    "sns.set()"
   ]
  },
  {
   "attachments": {},
   "cell_type": "markdown",
   "metadata": {},
   "source": [
    "### Loading the data"
   ]
  },
  {
   "cell_type": "code",
   "execution_count": 10,
   "metadata": {},
   "outputs": [
    {
     "name": "stdout",
     "output_type": "stream",
     "text": [
      "[*********************100%%**********************]  4 of 4 completed\n"
     ]
    }
   ],
   "source": [
    "raw_data = yfinance.download (tickers = \"^GSPC ^FTSE ^N225 ^GDAXI\", start = \"1994-01-07\", end = \"2023-09-23\", \n",
    "                              interval = \"1d\", group_by = 'ticker', auto_adjust = True, threads = True)"
   ]
  },
  {
   "cell_type": "code",
   "execution_count": 12,
   "metadata": {},
   "outputs": [],
   "source": [
    "df_comp = raw_data.copy()"
   ]
  },
  {
   "cell_type": "code",
   "execution_count": 13,
   "metadata": {},
   "outputs": [],
   "source": [
    "df_comp['spx'] = df_comp['^GSPC'].Close[:]\n",
    "df_comp['dax'] = df_comp['^GDAXI'].Close[:]\n",
    "df_comp['ftse'] = df_comp['^FTSE'].Close[:]\n",
    "df_comp['nikkei'] = df_comp['^N225'].Close[:]"
   ]
  },
  {
   "cell_type": "code",
   "execution_count": 14,
   "metadata": {
    "scrolled": true
   },
   "outputs": [],
   "source": [
    "df_comp = df_comp.iloc[1:]\n",
    "del df_comp['^N225']\n",
    "del df_comp['^GSPC']\n",
    "del df_comp['^GDAXI']\n",
    "del df_comp['^FTSE']\n",
    "df_comp=df_comp.asfreq('b')\n",
    "df_comp=df_comp.fillna(method='ffill')"
   ]
  },
  {
   "attachments": {},
   "cell_type": "markdown",
   "metadata": {},
   "source": [
    "### Creating Returns"
   ]
  },
  {
   "cell_type": "code",
   "execution_count": 15,
   "metadata": {},
   "outputs": [],
   "source": [
    "df_comp['ret_spx'] = df_comp.spx.pct_change(1)*100\n",
    "df_comp['ret_ftse'] = df_comp.ftse.pct_change(1)*100\n",
    "df_comp['ret_dax'] = df_comp.dax.pct_change(1)*100\n",
    "df_comp['ret_nikkei'] = df_comp.nikkei.pct_change(1)*100"
   ]
  },
  {
   "attachments": {},
   "cell_type": "markdown",
   "metadata": {},
   "source": [
    "### Splitting the Data"
   ]
  },
  {
   "cell_type": "code",
   "execution_count": 16,
   "metadata": {},
   "outputs": [],
   "source": [
    "size = int(len(df_comp)*0.8)\n",
    "df, df_test = df_comp.iloc[:size], df_comp.iloc[size:]"
   ]
  },
  {
   "attachments": {},
   "cell_type": "markdown",
   "metadata": {},
   "source": [
    "### Fitting a Model"
   ]
  },
  {
   "cell_type": "code",
   "execution_count": 18,
   "metadata": {},
   "outputs": [
    {
     "name": "stderr",
     "output_type": "stream",
     "text": [
      "\n",
      "[notice] A new release of pip available: 22.3.1 -> 23.2.1\n",
      "[notice] To update, run: python.exe -m pip install --upgrade pip\n"
     ]
    },
    {
     "name": "stdout",
     "output_type": "stream",
     "text": [
      "Collecting pmdarima\n",
      "  Downloading pmdarima-2.0.3-cp311-cp311-win_amd64.whl (566 kB)\n",
      "     -------------------------------------- 566.2/566.2 kB 1.1 MB/s eta 0:00:00\n",
      "Requirement already satisfied: joblib>=0.11 in c:\\users\\heber\\appdata\\local\\programs\\python\\python311\\lib\\site-packages (from pmdarima) (1.3.2)\n",
      "Collecting Cython!=0.29.18,!=0.29.31,>=0.29\n",
      "  Downloading Cython-3.0.3-cp311-cp311-win_amd64.whl (2.8 MB)\n",
      "     ---------------------------------------- 2.8/2.8 MB 1.4 MB/s eta 0:00:00\n",
      "Requirement already satisfied: numpy>=1.21.2 in c:\\users\\heber\\appdata\\local\\programs\\python\\python311\\lib\\site-packages (from pmdarima) (1.26.0)\n",
      "Requirement already satisfied: pandas>=0.19 in c:\\users\\heber\\appdata\\local\\programs\\python\\python311\\lib\\site-packages (from pmdarima) (2.1.1)\n",
      "Requirement already satisfied: scikit-learn>=0.22 in c:\\users\\heber\\appdata\\local\\programs\\python\\python311\\lib\\site-packages (from pmdarima) (1.3.1)\n",
      "Requirement already satisfied: scipy>=1.3.2 in c:\\users\\heber\\appdata\\local\\programs\\python\\python311\\lib\\site-packages (from pmdarima) (1.11.2)\n",
      "Requirement already satisfied: statsmodels>=0.13.2 in c:\\users\\heber\\appdata\\local\\programs\\python\\python311\\lib\\site-packages (from pmdarima) (0.14.0)\n",
      "Requirement already satisfied: urllib3 in c:\\users\\heber\\appdata\\local\\programs\\python\\python311\\lib\\site-packages (from pmdarima) (2.0.5)\n",
      "Requirement already satisfied: setuptools!=50.0.0,>=38.6.0 in c:\\users\\heber\\appdata\\local\\programs\\python\\python311\\lib\\site-packages (from pmdarima) (65.5.0)\n",
      "Requirement already satisfied: python-dateutil>=2.8.2 in c:\\users\\heber\\appdata\\roaming\\python\\python311\\site-packages (from pandas>=0.19->pmdarima) (2.8.2)\n",
      "Requirement already satisfied: pytz>=2020.1 in c:\\users\\heber\\appdata\\local\\programs\\python\\python311\\lib\\site-packages (from pandas>=0.19->pmdarima) (2023.3.post1)\n",
      "Requirement already satisfied: tzdata>=2022.1 in c:\\users\\heber\\appdata\\local\\programs\\python\\python311\\lib\\site-packages (from pandas>=0.19->pmdarima) (2023.3)\n",
      "Requirement already satisfied: threadpoolctl>=2.0.0 in c:\\users\\heber\\appdata\\local\\programs\\python\\python311\\lib\\site-packages (from scikit-learn>=0.22->pmdarima) (3.2.0)\n",
      "Requirement already satisfied: patsy>=0.5.2 in c:\\users\\heber\\appdata\\local\\programs\\python\\python311\\lib\\site-packages (from statsmodels>=0.13.2->pmdarima) (0.5.3)\n",
      "Requirement already satisfied: packaging>=21.3 in c:\\users\\heber\\appdata\\roaming\\python\\python311\\site-packages (from statsmodels>=0.13.2->pmdarima) (23.1)\n",
      "Requirement already satisfied: six in c:\\users\\heber\\appdata\\roaming\\python\\python311\\site-packages (from patsy>=0.5.2->statsmodels>=0.13.2->pmdarima) (1.16.0)\n",
      "Installing collected packages: Cython, pmdarima\n",
      "Successfully installed Cython-3.0.3 pmdarima-2.0.3\n",
      "Note: you may need to restart the kernel to use updated packages.\n"
     ]
    }
   ],
   "source": [
    "%pip install pmdarima\n",
    "#Búsqueda automática de los parámetros óptimos del modelo ARIMA\n",
    "from pmdarima.arima import auto_arima"
   ]
  },
  {
   "cell_type": "code",
   "execution_count": 19,
   "metadata": {},
   "outputs": [],
   "source": [
    "model_auto = auto_arima(df.ret_ftse[1:])"
   ]
  },
  {
   "cell_type": "code",
   "execution_count": 20,
   "metadata": {},
   "outputs": [
    {
     "data": {
      "text/html": [
       "<style>#sk-container-id-1 {color: black;}#sk-container-id-1 pre{padding: 0;}#sk-container-id-1 div.sk-toggleable {background-color: white;}#sk-container-id-1 label.sk-toggleable__label {cursor: pointer;display: block;width: 100%;margin-bottom: 0;padding: 0.3em;box-sizing: border-box;text-align: center;}#sk-container-id-1 label.sk-toggleable__label-arrow:before {content: \"▸\";float: left;margin-right: 0.25em;color: #696969;}#sk-container-id-1 label.sk-toggleable__label-arrow:hover:before {color: black;}#sk-container-id-1 div.sk-estimator:hover label.sk-toggleable__label-arrow:before {color: black;}#sk-container-id-1 div.sk-toggleable__content {max-height: 0;max-width: 0;overflow: hidden;text-align: left;background-color: #f0f8ff;}#sk-container-id-1 div.sk-toggleable__content pre {margin: 0.2em;color: black;border-radius: 0.25em;background-color: #f0f8ff;}#sk-container-id-1 input.sk-toggleable__control:checked~div.sk-toggleable__content {max-height: 200px;max-width: 100%;overflow: auto;}#sk-container-id-1 input.sk-toggleable__control:checked~label.sk-toggleable__label-arrow:before {content: \"▾\";}#sk-container-id-1 div.sk-estimator input.sk-toggleable__control:checked~label.sk-toggleable__label {background-color: #d4ebff;}#sk-container-id-1 div.sk-label input.sk-toggleable__control:checked~label.sk-toggleable__label {background-color: #d4ebff;}#sk-container-id-1 input.sk-hidden--visually {border: 0;clip: rect(1px 1px 1px 1px);clip: rect(1px, 1px, 1px, 1px);height: 1px;margin: -1px;overflow: hidden;padding: 0;position: absolute;width: 1px;}#sk-container-id-1 div.sk-estimator {font-family: monospace;background-color: #f0f8ff;border: 1px dotted black;border-radius: 0.25em;box-sizing: border-box;margin-bottom: 0.5em;}#sk-container-id-1 div.sk-estimator:hover {background-color: #d4ebff;}#sk-container-id-1 div.sk-parallel-item::after {content: \"\";width: 100%;border-bottom: 1px solid gray;flex-grow: 1;}#sk-container-id-1 div.sk-label:hover label.sk-toggleable__label {background-color: #d4ebff;}#sk-container-id-1 div.sk-serial::before {content: \"\";position: absolute;border-left: 1px solid gray;box-sizing: border-box;top: 0;bottom: 0;left: 50%;z-index: 0;}#sk-container-id-1 div.sk-serial {display: flex;flex-direction: column;align-items: center;background-color: white;padding-right: 0.2em;padding-left: 0.2em;position: relative;}#sk-container-id-1 div.sk-item {position: relative;z-index: 1;}#sk-container-id-1 div.sk-parallel {display: flex;align-items: stretch;justify-content: center;background-color: white;position: relative;}#sk-container-id-1 div.sk-item::before, #sk-container-id-1 div.sk-parallel-item::before {content: \"\";position: absolute;border-left: 1px solid gray;box-sizing: border-box;top: 0;bottom: 0;left: 50%;z-index: -1;}#sk-container-id-1 div.sk-parallel-item {display: flex;flex-direction: column;z-index: 1;position: relative;background-color: white;}#sk-container-id-1 div.sk-parallel-item:first-child::after {align-self: flex-end;width: 50%;}#sk-container-id-1 div.sk-parallel-item:last-child::after {align-self: flex-start;width: 50%;}#sk-container-id-1 div.sk-parallel-item:only-child::after {width: 0;}#sk-container-id-1 div.sk-dashed-wrapped {border: 1px dashed gray;margin: 0 0.4em 0.5em 0.4em;box-sizing: border-box;padding-bottom: 0.4em;background-color: white;}#sk-container-id-1 div.sk-label label {font-family: monospace;font-weight: bold;display: inline-block;line-height: 1.2em;}#sk-container-id-1 div.sk-label-container {text-align: center;}#sk-container-id-1 div.sk-container {/* jupyter's `normalize.less` sets `[hidden] { display: none; }` but bootstrap.min.css set `[hidden] { display: none !important; }` so we also need the `!important` here to be able to override the default hidden behavior on the sphinx rendered scikit-learn.org. See: https://github.com/scikit-learn/scikit-learn/issues/21755 */display: inline-block !important;position: relative;}#sk-container-id-1 div.sk-text-repr-fallback {display: none;}</style><div id=\"sk-container-id-1\" class=\"sk-top-container\"><div class=\"sk-text-repr-fallback\"><pre> ARIMA(4,0,5)(0,0,0)[0] intercept</pre><b>In a Jupyter environment, please rerun this cell to show the HTML representation or trust the notebook. <br />On GitHub, the HTML representation is unable to render, please try loading this page with nbviewer.org.</b></div><div class=\"sk-container\" hidden><div class=\"sk-item\"><div class=\"sk-estimator sk-toggleable\"><input class=\"sk-toggleable__control sk-hidden--visually\" id=\"sk-estimator-id-1\" type=\"checkbox\" checked><label for=\"sk-estimator-id-1\" class=\"sk-toggleable__label sk-toggleable__label-arrow\">ARIMA</label><div class=\"sk-toggleable__content\"><pre> ARIMA(4,0,5)(0,0,0)[0] intercept</pre></div></div></div></div></div>"
      ],
      "text/plain": [
       "ARIMA(order=(4, 0, 5), scoring_args={}, suppress_warnings=True)"
      ]
     },
     "execution_count": 20,
     "metadata": {},
     "output_type": "execute_result"
    }
   ],
   "source": [
    "#ARIMA(4,0,5): Esto indica que el modelo tiene componentes autoregresivas (AR) de orden 4 y medias móviles (MA) de orden 5\n",
    "#(0,0,0): Los términos (0,0,0) indican que no hay componentes estacionales en el modelo. \n",
    "#[0] intercept: Hay un término de intercepto en el modelo. Valor esperado de la serie temporal cuando todas las otras variables son cero.\n",
    "model_auto"
   ]
  },
  {
   "cell_type": "code",
   "execution_count": 21,
   "metadata": {},
   "outputs": [
    {
     "data": {
      "text/html": [
       "<table class=\"simpletable\">\n",
       "<caption>SARIMAX Results</caption>\n",
       "<tr>\n",
       "  <th>Dep. Variable:</th>           <td>y</td>        <th>  No. Observations:  </th>   <td>6199</td>   \n",
       "</tr>\n",
       "<tr>\n",
       "  <th>Model:</th>           <td>SARIMAX(4, 0, 5)</td> <th>  Log Likelihood     </th> <td>-9468.378</td>\n",
       "</tr>\n",
       "<tr>\n",
       "  <th>Date:</th>            <td>Tue, 10 Oct 2023</td> <th>  AIC                </th> <td>18958.757</td>\n",
       "</tr>\n",
       "<tr>\n",
       "  <th>Time:</th>                <td>00:52:50</td>     <th>  BIC                </th> <td>19032.810</td>\n",
       "</tr>\n",
       "<tr>\n",
       "  <th>Sample:</th>             <td>01-11-1994</td>    <th>  HQIC               </th> <td>18984.431</td>\n",
       "</tr>\n",
       "<tr>\n",
       "  <th></th>                   <td>- 10-13-2017</td>   <th>                     </th>     <td> </td>    \n",
       "</tr>\n",
       "<tr>\n",
       "  <th>Covariance Type:</th>        <td>opg</td>       <th>                     </th>     <td> </td>    \n",
       "</tr>\n",
       "</table>\n",
       "<table class=\"simpletable\">\n",
       "<tr>\n",
       "      <td></td>         <th>coef</th>     <th>std err</th>      <th>z</th>      <th>P>|z|</th>  <th>[0.025</th>    <th>0.975]</th>  \n",
       "</tr>\n",
       "<tr>\n",
       "  <th>intercept</th> <td>    0.0266</td> <td>    0.019</td> <td>    1.427</td> <td> 0.153</td> <td>   -0.010</td> <td>    0.063</td>\n",
       "</tr>\n",
       "<tr>\n",
       "  <th>ar.L1</th>     <td>    0.0382</td> <td>    0.076</td> <td>    0.501</td> <td> 0.616</td> <td>   -0.111</td> <td>    0.187</td>\n",
       "</tr>\n",
       "<tr>\n",
       "  <th>ar.L2</th>     <td>   -0.5738</td> <td>    0.077</td> <td>   -7.442</td> <td> 0.000</td> <td>   -0.725</td> <td>   -0.423</td>\n",
       "</tr>\n",
       "<tr>\n",
       "  <th>ar.L3</th>     <td>   -0.1614</td> <td>    0.070</td> <td>   -2.314</td> <td> 0.021</td> <td>   -0.298</td> <td>   -0.025</td>\n",
       "</tr>\n",
       "<tr>\n",
       "  <th>ar.L4</th>     <td>    0.3043</td> <td>    0.074</td> <td>    4.113</td> <td> 0.000</td> <td>    0.159</td> <td>    0.449</td>\n",
       "</tr>\n",
       "<tr>\n",
       "  <th>ma.L1</th>     <td>   -0.0576</td> <td>    0.076</td> <td>   -0.757</td> <td> 0.449</td> <td>   -0.207</td> <td>    0.092</td>\n",
       "</tr>\n",
       "<tr>\n",
       "  <th>ma.L2</th>     <td>    0.5245</td> <td>    0.078</td> <td>    6.714</td> <td> 0.000</td> <td>    0.371</td> <td>    0.678</td>\n",
       "</tr>\n",
       "<tr>\n",
       "  <th>ma.L3</th>     <td>    0.0799</td> <td>    0.068</td> <td>    1.173</td> <td> 0.241</td> <td>   -0.054</td> <td>    0.213</td>\n",
       "</tr>\n",
       "<tr>\n",
       "  <th>ma.L4</th>     <td>   -0.3065</td> <td>    0.073</td> <td>   -4.188</td> <td> 0.000</td> <td>   -0.450</td> <td>   -0.163</td>\n",
       "</tr>\n",
       "<tr>\n",
       "  <th>ma.L5</th>     <td>   -0.0889</td> <td>    0.009</td> <td>  -10.398</td> <td> 0.000</td> <td>   -0.106</td> <td>   -0.072</td>\n",
       "</tr>\n",
       "<tr>\n",
       "  <th>sigma2</th>    <td>    1.2444</td> <td>    0.012</td> <td>  102.562</td> <td> 0.000</td> <td>    1.221</td> <td>    1.268</td>\n",
       "</tr>\n",
       "</table>\n",
       "<table class=\"simpletable\">\n",
       "<tr>\n",
       "  <th>Ljung-Box (L1) (Q):</th>     <td>0.00</td> <th>  Jarque-Bera (JB):  </th> <td>8324.63</td>\n",
       "</tr>\n",
       "<tr>\n",
       "  <th>Prob(Q):</th>                <td>0.96</td> <th>  Prob(JB):          </th>  <td>0.00</td>  \n",
       "</tr>\n",
       "<tr>\n",
       "  <th>Heteroskedasticity (H):</th> <td>0.89</td> <th>  Skew:              </th>  <td>-0.20</td> \n",
       "</tr>\n",
       "<tr>\n",
       "  <th>Prob(H) (two-sided):</th>    <td>0.01</td> <th>  Kurtosis:          </th>  <td>8.66</td>  \n",
       "</tr>\n",
       "</table><br/><br/>Warnings:<br/>[1] Covariance matrix calculated using the outer product of gradients (complex-step)."
      ],
      "text/latex": [
       "\\begin{center}\n",
       "\\begin{tabular}{lclc}\n",
       "\\toprule\n",
       "\\textbf{Dep. Variable:}          &        y         & \\textbf{  No. Observations:  } &    6199     \\\\\n",
       "\\textbf{Model:}                  & SARIMAX(4, 0, 5) & \\textbf{  Log Likelihood     } & -9468.378   \\\\\n",
       "\\textbf{Date:}                   & Tue, 10 Oct 2023 & \\textbf{  AIC                } & 18958.757   \\\\\n",
       "\\textbf{Time:}                   &     00:52:50     & \\textbf{  BIC                } & 19032.810   \\\\\n",
       "\\textbf{Sample:}                 &    01-11-1994    & \\textbf{  HQIC               } & 18984.431   \\\\\n",
       "\\textbf{}                        &   - 10-13-2017   & \\textbf{                     } &             \\\\\n",
       "\\textbf{Covariance Type:}        &       opg        & \\textbf{                     } &             \\\\\n",
       "\\bottomrule\n",
       "\\end{tabular}\n",
       "\\begin{tabular}{lcccccc}\n",
       "                   & \\textbf{coef} & \\textbf{std err} & \\textbf{z} & \\textbf{P$> |$z$|$} & \\textbf{[0.025} & \\textbf{0.975]}  \\\\\n",
       "\\midrule\n",
       "\\textbf{intercept} &       0.0266  &        0.019     &     1.427  &         0.153        &       -0.010    &        0.063     \\\\\n",
       "\\textbf{ar.L1}     &       0.0382  &        0.076     &     0.501  &         0.616        &       -0.111    &        0.187     \\\\\n",
       "\\textbf{ar.L2}     &      -0.5738  &        0.077     &    -7.442  &         0.000        &       -0.725    &       -0.423     \\\\\n",
       "\\textbf{ar.L3}     &      -0.1614  &        0.070     &    -2.314  &         0.021        &       -0.298    &       -0.025     \\\\\n",
       "\\textbf{ar.L4}     &       0.3043  &        0.074     &     4.113  &         0.000        &        0.159    &        0.449     \\\\\n",
       "\\textbf{ma.L1}     &      -0.0576  &        0.076     &    -0.757  &         0.449        &       -0.207    &        0.092     \\\\\n",
       "\\textbf{ma.L2}     &       0.5245  &        0.078     &     6.714  &         0.000        &        0.371    &        0.678     \\\\\n",
       "\\textbf{ma.L3}     &       0.0799  &        0.068     &     1.173  &         0.241        &       -0.054    &        0.213     \\\\\n",
       "\\textbf{ma.L4}     &      -0.3065  &        0.073     &    -4.188  &         0.000        &       -0.450    &       -0.163     \\\\\n",
       "\\textbf{ma.L5}     &      -0.0889  &        0.009     &   -10.398  &         0.000        &       -0.106    &       -0.072     \\\\\n",
       "\\textbf{sigma2}    &       1.2444  &        0.012     &   102.562  &         0.000        &        1.221    &        1.268     \\\\\n",
       "\\bottomrule\n",
       "\\end{tabular}\n",
       "\\begin{tabular}{lclc}\n",
       "\\textbf{Ljung-Box (L1) (Q):}     & 0.00 & \\textbf{  Jarque-Bera (JB):  } & 8324.63  \\\\\n",
       "\\textbf{Prob(Q):}                & 0.96 & \\textbf{  Prob(JB):          } &   0.00   \\\\\n",
       "\\textbf{Heteroskedasticity (H):} & 0.89 & \\textbf{  Skew:              } &  -0.20   \\\\\n",
       "\\textbf{Prob(H) (two-sided):}    & 0.01 & \\textbf{  Kurtosis:          } &   8.66   \\\\\n",
       "\\bottomrule\n",
       "\\end{tabular}\n",
       "%\\caption{SARIMAX Results}\n",
       "\\end{center}\n",
       "\n",
       "Warnings: \\newline\n",
       " [1] Covariance matrix calculated using the outer product of gradients (complex-step)."
      ],
      "text/plain": [
       "<class 'statsmodels.iolib.summary.Summary'>\n",
       "\"\"\"\n",
       "                               SARIMAX Results                                \n",
       "==============================================================================\n",
       "Dep. Variable:                      y   No. Observations:                 6199\n",
       "Model:               SARIMAX(4, 0, 5)   Log Likelihood               -9468.378\n",
       "Date:                Tue, 10 Oct 2023   AIC                          18958.757\n",
       "Time:                        00:52:50   BIC                          19032.810\n",
       "Sample:                    01-11-1994   HQIC                         18984.431\n",
       "                         - 10-13-2017                                         \n",
       "Covariance Type:                  opg                                         \n",
       "==============================================================================\n",
       "                 coef    std err          z      P>|z|      [0.025      0.975]\n",
       "------------------------------------------------------------------------------\n",
       "intercept      0.0266      0.019      1.427      0.153      -0.010       0.063\n",
       "ar.L1          0.0382      0.076      0.501      0.616      -0.111       0.187\n",
       "ar.L2         -0.5738      0.077     -7.442      0.000      -0.725      -0.423\n",
       "ar.L3         -0.1614      0.070     -2.314      0.021      -0.298      -0.025\n",
       "ar.L4          0.3043      0.074      4.113      0.000       0.159       0.449\n",
       "ma.L1         -0.0576      0.076     -0.757      0.449      -0.207       0.092\n",
       "ma.L2          0.5245      0.078      6.714      0.000       0.371       0.678\n",
       "ma.L3          0.0799      0.068      1.173      0.241      -0.054       0.213\n",
       "ma.L4         -0.3065      0.073     -4.188      0.000      -0.450      -0.163\n",
       "ma.L5         -0.0889      0.009    -10.398      0.000      -0.106      -0.072\n",
       "sigma2         1.2444      0.012    102.562      0.000       1.221       1.268\n",
       "===================================================================================\n",
       "Ljung-Box (L1) (Q):                   0.00   Jarque-Bera (JB):              8324.63\n",
       "Prob(Q):                              0.96   Prob(JB):                         0.00\n",
       "Heteroskedasticity (H):               0.89   Skew:                            -0.20\n",
       "Prob(H) (two-sided):                  0.01   Kurtosis:                         8.66\n",
       "===================================================================================\n",
       "\n",
       "Warnings:\n",
       "[1] Covariance matrix calculated using the outer product of gradients (complex-step).\n",
       "\"\"\""
      ]
     },
     "execution_count": 21,
     "metadata": {},
     "output_type": "execute_result"
    }
   ],
   "source": [
    "model_auto.summary()"
   ]
  },
  {
   "attachments": {},
   "cell_type": "markdown",
   "metadata": {},
   "source": [
    "### Important Arguments"
   ]
  },
  {
   "cell_type": "code",
   "execution_count": 22,
   "metadata": {
    "scrolled": true
   },
   "outputs": [],
   "source": [
    "model_auto = auto_arima(df_comp.ret_ftse[1:], exogenous = df_comp[['ret_spx', 'ret_dax', 'ret_nikkei']][1:], m = 5,\n",
    "                       max_order = None, max_p = 7, max_q = 7, max_d = 2, max_P = 4, max_Q = 4, max_D = 2,\n",
    "                       maxiter = 50, alpha = 0.05, n_jobs = -1, trend = 'ct', information_criterion = 'oob',\n",
    "                       out_of_sample = int(len(df_comp)*0.2))\n",
    "\n",
    "\n",
    "# !!! Important Note: In pdmarima v1.5.2, out_of_sample_size is replaced with out_of_sample, so make sure to use the latter!\n",
    "\n",
    "\n",
    "# exogenous -> factores externos (por ejemplo, otras series de tiempo)\n",
    "# m -> duración del ciclo estacional\n",
    "# max_order -> cantidad máxima de variables a utilizar en la regresión (p + q)\n",
    "# max_p -> componentes maximos de AR\n",
    "# max_q -> componentes maximos de MA\n",
    "# max_d -> integraciones maximas\n",
    "# maxiter -> iteraciones máximas que le estamos dando al modelo para hacer converger los coeficientes (se vuelve más difícil a medida que aumenta el orden)\n",
    "# alpha -> nivel de significancia, el valor predeterminado es 5%, que deberíamos usar la mayor parte del tiempo\n",
    "# n_jobs -> cuántos modelos caben a la vez (-1 indica \"tantos como sea posible\")\n",
    "# trend -> \"ct\" usually\n",
    "# information_criterion -> 'aic', 'aicc', 'bic', 'hqic', 'oob' \n",
    "#        (Akaike Information Criterion, Corrected Akaike Information Criterion,\n",
    "#        Bayesian Information Criterion, Hannan-Quinn Information Criterion, or\n",
    "#        \"out of bag\"--for validation scoring--respectively)\n",
    "# out_of_smaple -> valida la selección del modelo (pase todo el conjunto de datos y establezca el 20% como out_of_sample_size)"
   ]
  },
  {
   "cell_type": "code",
   "execution_count": 23,
   "metadata": {},
   "outputs": [
    {
     "data": {
      "text/html": [
       "<table class=\"simpletable\">\n",
       "<caption>SARIMAX Results</caption>\n",
       "<tr>\n",
       "  <th>Dep. Variable:</th>                    <td>y</td>                 <th>  No. Observations:  </th>    <td>7749</td>   \n",
       "</tr>\n",
       "<tr>\n",
       "  <th>Model:</th>           <td>SARIMAX(3, 0, 3)x(0, 0, [1, 2], 5)</td> <th>  Log Likelihood     </th> <td>-11754.388</td>\n",
       "</tr>\n",
       "<tr>\n",
       "  <th>Date:</th>                     <td>Tue, 10 Oct 2023</td>          <th>  AIC                </th>  <td>23530.776</td>\n",
       "</tr>\n",
       "<tr>\n",
       "  <th>Time:</th>                         <td>01:01:23</td>              <th>  BIC                </th>  <td>23607.284</td>\n",
       "</tr>\n",
       "<tr>\n",
       "  <th>Sample:</th>                      <td>01-11-1994</td>             <th>  HQIC               </th>  <td>23557.005</td>\n",
       "</tr>\n",
       "<tr>\n",
       "  <th></th>                            <td>- 09-22-2023</td>            <th>                     </th>      <td> </td>    \n",
       "</tr>\n",
       "<tr>\n",
       "  <th>Covariance Type:</th>                 <td>opg</td>                <th>                     </th>      <td> </td>    \n",
       "</tr>\n",
       "</table>\n",
       "<table class=\"simpletable\">\n",
       "<tr>\n",
       "      <td></td>         <th>coef</th>     <th>std err</th>      <th>z</th>      <th>P>|z|</th>  <th>[0.025</th>    <th>0.975]</th>  \n",
       "</tr>\n",
       "<tr>\n",
       "  <th>intercept</th> <td>    0.0258</td> <td>    0.027</td> <td>    0.943</td> <td> 0.345</td> <td>   -0.028</td> <td>    0.079</td>\n",
       "</tr>\n",
       "<tr>\n",
       "  <th>drift</th>     <td>-1.855e-06</td> <td> 6.25e-06</td> <td>   -0.297</td> <td> 0.766</td> <td>-1.41e-05</td> <td> 1.04e-05</td>\n",
       "</tr>\n",
       "<tr>\n",
       "  <th>ar.L1</th>     <td>   -0.3025</td> <td>    0.071</td> <td>   -4.242</td> <td> 0.000</td> <td>   -0.442</td> <td>   -0.163</td>\n",
       "</tr>\n",
       "<tr>\n",
       "  <th>ar.L2</th>     <td>   -0.2583</td> <td>    0.071</td> <td>   -3.640</td> <td> 0.000</td> <td>   -0.397</td> <td>   -0.119</td>\n",
       "</tr>\n",
       "<tr>\n",
       "  <th>ar.L3</th>     <td>    0.3823</td> <td>    0.073</td> <td>    5.272</td> <td> 0.000</td> <td>    0.240</td> <td>    0.524</td>\n",
       "</tr>\n",
       "<tr>\n",
       "  <th>ma.L1</th>     <td>    0.2825</td> <td>    0.068</td> <td>    4.135</td> <td> 0.000</td> <td>    0.149</td> <td>    0.416</td>\n",
       "</tr>\n",
       "<tr>\n",
       "  <th>ma.L2</th>     <td>    0.2148</td> <td>    0.070</td> <td>    3.089</td> <td> 0.002</td> <td>    0.078</td> <td>    0.351</td>\n",
       "</tr>\n",
       "<tr>\n",
       "  <th>ma.L3</th>     <td>   -0.4611</td> <td>    0.070</td> <td>   -6.629</td> <td> 0.000</td> <td>   -0.597</td> <td>   -0.325</td>\n",
       "</tr>\n",
       "<tr>\n",
       "  <th>ma.S.L5</th>   <td>   -0.0353</td> <td>    0.007</td> <td>   -4.791</td> <td> 0.000</td> <td>   -0.050</td> <td>   -0.021</td>\n",
       "</tr>\n",
       "<tr>\n",
       "  <th>ma.S.L10</th>  <td>   -0.0114</td> <td>    0.007</td> <td>   -1.536</td> <td> 0.124</td> <td>   -0.026</td> <td>    0.003</td>\n",
       "</tr>\n",
       "<tr>\n",
       "  <th>sigma2</th>    <td>    1.2194</td> <td>    0.009</td> <td>  129.169</td> <td> 0.000</td> <td>    1.201</td> <td>    1.238</td>\n",
       "</tr>\n",
       "</table>\n",
       "<table class=\"simpletable\">\n",
       "<tr>\n",
       "  <th>Ljung-Box (L1) (Q):</th>     <td>0.00</td> <th>  Jarque-Bera (JB):  </th> <td>18528.00</td>\n",
       "</tr>\n",
       "<tr>\n",
       "  <th>Prob(Q):</th>                <td>0.99</td> <th>  Prob(JB):          </th>   <td>0.00</td>  \n",
       "</tr>\n",
       "<tr>\n",
       "  <th>Heteroskedasticity (H):</th> <td>0.76</td> <th>  Skew:              </th>   <td>-0.32</td> \n",
       "</tr>\n",
       "<tr>\n",
       "  <th>Prob(H) (two-sided):</th>    <td>0.00</td> <th>  Kurtosis:          </th>   <td>10.55</td> \n",
       "</tr>\n",
       "</table><br/><br/>Warnings:<br/>[1] Covariance matrix calculated using the outer product of gradients (complex-step)."
      ],
      "text/latex": [
       "\\begin{center}\n",
       "\\begin{tabular}{lclc}\n",
       "\\toprule\n",
       "\\textbf{Dep. Variable:}          &                 y                  & \\textbf{  No. Observations:  } &    7749     \\\\\n",
       "\\textbf{Model:}                  & SARIMAX(3, 0, 3)x(0, 0, [1, 2], 5) & \\textbf{  Log Likelihood     } & -11754.388  \\\\\n",
       "\\textbf{Date:}                   &          Tue, 10 Oct 2023          & \\textbf{  AIC                } & 23530.776   \\\\\n",
       "\\textbf{Time:}                   &              01:01:23              & \\textbf{  BIC                } & 23607.284   \\\\\n",
       "\\textbf{Sample:}                 &             01-11-1994             & \\textbf{  HQIC               } & 23557.005   \\\\\n",
       "\\textbf{}                        &            - 09-22-2023            & \\textbf{                     } &             \\\\\n",
       "\\textbf{Covariance Type:}        &                opg                 & \\textbf{                     } &             \\\\\n",
       "\\bottomrule\n",
       "\\end{tabular}\n",
       "\\begin{tabular}{lcccccc}\n",
       "                   & \\textbf{coef} & \\textbf{std err} & \\textbf{z} & \\textbf{P$> |$z$|$} & \\textbf{[0.025} & \\textbf{0.975]}  \\\\\n",
       "\\midrule\n",
       "\\textbf{intercept} &       0.0258  &        0.027     &     0.943  &         0.345        &       -0.028    &        0.079     \\\\\n",
       "\\textbf{drift}     &   -1.855e-06  &     6.25e-06     &    -0.297  &         0.766        &    -1.41e-05    &     1.04e-05     \\\\\n",
       "\\textbf{ar.L1}     &      -0.3025  &        0.071     &    -4.242  &         0.000        &       -0.442    &       -0.163     \\\\\n",
       "\\textbf{ar.L2}     &      -0.2583  &        0.071     &    -3.640  &         0.000        &       -0.397    &       -0.119     \\\\\n",
       "\\textbf{ar.L3}     &       0.3823  &        0.073     &     5.272  &         0.000        &        0.240    &        0.524     \\\\\n",
       "\\textbf{ma.L1}     &       0.2825  &        0.068     &     4.135  &         0.000        &        0.149    &        0.416     \\\\\n",
       "\\textbf{ma.L2}     &       0.2148  &        0.070     &     3.089  &         0.002        &        0.078    &        0.351     \\\\\n",
       "\\textbf{ma.L3}     &      -0.4611  &        0.070     &    -6.629  &         0.000        &       -0.597    &       -0.325     \\\\\n",
       "\\textbf{ma.S.L5}   &      -0.0353  &        0.007     &    -4.791  &         0.000        &       -0.050    &       -0.021     \\\\\n",
       "\\textbf{ma.S.L10}  &      -0.0114  &        0.007     &    -1.536  &         0.124        &       -0.026    &        0.003     \\\\\n",
       "\\textbf{sigma2}    &       1.2194  &        0.009     &   129.169  &         0.000        &        1.201    &        1.238     \\\\\n",
       "\\bottomrule\n",
       "\\end{tabular}\n",
       "\\begin{tabular}{lclc}\n",
       "\\textbf{Ljung-Box (L1) (Q):}     & 0.00 & \\textbf{  Jarque-Bera (JB):  } & 18528.00  \\\\\n",
       "\\textbf{Prob(Q):}                & 0.99 & \\textbf{  Prob(JB):          } &   0.00    \\\\\n",
       "\\textbf{Heteroskedasticity (H):} & 0.76 & \\textbf{  Skew:              } &  -0.32    \\\\\n",
       "\\textbf{Prob(H) (two-sided):}    & 0.00 & \\textbf{  Kurtosis:          } &  10.55    \\\\\n",
       "\\bottomrule\n",
       "\\end{tabular}\n",
       "%\\caption{SARIMAX Results}\n",
       "\\end{center}\n",
       "\n",
       "Warnings: \\newline\n",
       " [1] Covariance matrix calculated using the outer product of gradients (complex-step)."
      ],
      "text/plain": [
       "<class 'statsmodels.iolib.summary.Summary'>\n",
       "\"\"\"\n",
       "                                       SARIMAX Results                                        \n",
       "==============================================================================================\n",
       "Dep. Variable:                                      y   No. Observations:                 7749\n",
       "Model:             SARIMAX(3, 0, 3)x(0, 0, [1, 2], 5)   Log Likelihood              -11754.388\n",
       "Date:                                Tue, 10 Oct 2023   AIC                          23530.776\n",
       "Time:                                        01:01:23   BIC                          23607.284\n",
       "Sample:                                    01-11-1994   HQIC                         23557.005\n",
       "                                         - 09-22-2023                                         \n",
       "Covariance Type:                                  opg                                         \n",
       "==============================================================================\n",
       "                 coef    std err          z      P>|z|      [0.025      0.975]\n",
       "------------------------------------------------------------------------------\n",
       "intercept      0.0258      0.027      0.943      0.345      -0.028       0.079\n",
       "drift      -1.855e-06   6.25e-06     -0.297      0.766   -1.41e-05    1.04e-05\n",
       "ar.L1         -0.3025      0.071     -4.242      0.000      -0.442      -0.163\n",
       "ar.L2         -0.2583      0.071     -3.640      0.000      -0.397      -0.119\n",
       "ar.L3          0.3823      0.073      5.272      0.000       0.240       0.524\n",
       "ma.L1          0.2825      0.068      4.135      0.000       0.149       0.416\n",
       "ma.L2          0.2148      0.070      3.089      0.002       0.078       0.351\n",
       "ma.L3         -0.4611      0.070     -6.629      0.000      -0.597      -0.325\n",
       "ma.S.L5       -0.0353      0.007     -4.791      0.000      -0.050      -0.021\n",
       "ma.S.L10      -0.0114      0.007     -1.536      0.124      -0.026       0.003\n",
       "sigma2         1.2194      0.009    129.169      0.000       1.201       1.238\n",
       "===================================================================================\n",
       "Ljung-Box (L1) (Q):                   0.00   Jarque-Bera (JB):             18528.00\n",
       "Prob(Q):                              0.99   Prob(JB):                         0.00\n",
       "Heteroskedasticity (H):               0.76   Skew:                            -0.32\n",
       "Prob(H) (two-sided):                  0.00   Kurtosis:                        10.55\n",
       "===================================================================================\n",
       "\n",
       "Warnings:\n",
       "[1] Covariance matrix calculated using the outer product of gradients (complex-step).\n",
       "\"\"\""
      ]
     },
     "execution_count": 23,
     "metadata": {},
     "output_type": "execute_result"
    }
   ],
   "source": [
    "model_auto.summary()\n",
    "#(0, 0, [1, 2], 5) indica que hay un componente estacional con un período de 5 observaciones. \n",
    "#El [1, 2] Medias móviles estacionales (SMA), el modelo incluye términos de medias móviles estacionales de órdenes 1 y 2. \n",
    "#El 5 representa el período estacional."
   ]
  }
 ],
 "metadata": {
  "kernelspec": {
   "display_name": "Python 3",
   "language": "python",
   "name": "python3"
  },
  "language_info": {
   "codemirror_mode": {
    "name": "ipython",
    "version": 3
   },
   "file_extension": ".py",
   "mimetype": "text/x-python",
   "name": "python",
   "nbconvert_exporter": "python",
   "pygments_lexer": "ipython3",
   "version": "3.11.3"
  }
 },
 "nbformat": 4,
 "nbformat_minor": 2
}
