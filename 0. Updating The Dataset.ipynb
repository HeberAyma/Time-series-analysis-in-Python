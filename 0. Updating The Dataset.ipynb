{
 "cells": [
  {
   "cell_type": "code",
   "execution_count": 3,
   "metadata": {},
   "outputs": [
    {
     "name": "stdout",
     "output_type": "stream",
     "text": [
      "Requirement already satisfied: yfinance in c:\\users\\heber\\appdata\\local\\programs\\python\\python311\\lib\\site-packages (0.2.28)\n",
      "Requirement already satisfied: pandas>=1.3.0 in c:\\users\\heber\\appdata\\local\\programs\\python\\python311\\lib\\site-packages (from yfinance) (2.1.1)\n",
      "Requirement already satisfied: numpy>=1.16.5 in c:\\users\\heber\\appdata\\local\\programs\\python\\python311\\lib\\site-packages (from yfinance) (1.26.0)\n",
      "Requirement already satisfied: requests>=2.31 in c:\\users\\heber\\appdata\\local\\programs\\python\\python311\\lib\\site-packages (from yfinance) (2.31.0)\n",
      "Requirement already satisfied: multitasking>=0.0.7 in c:\\users\\heber\\appdata\\local\\programs\\python\\python311\\lib\\site-packages (from yfinance) (0.0.11)\n",
      "Requirement already satisfied: lxml>=4.9.1 in c:\\users\\heber\\appdata\\local\\programs\\python\\python311\\lib\\site-packages (from yfinance) (4.9.3)\n",
      "Requirement already satisfied: appdirs>=1.4.4 in c:\\users\\heber\\appdata\\local\\programs\\python\\python311\\lib\\site-packages (from yfinance) (1.4.4)\n",
      "Requirement already satisfied: pytz>=2022.5 in c:\\users\\heber\\appdata\\local\\programs\\python\\python311\\lib\\site-packages (from yfinance) (2023.3.post1)\n",
      "Requirement already satisfied: frozendict>=2.3.4 in c:\\users\\heber\\appdata\\local\\programs\\python\\python311\\lib\\site-packages (from yfinance) (2.3.8)\n",
      "Requirement already satisfied: beautifulsoup4>=4.11.1 in c:\\users\\heber\\appdata\\local\\programs\\python\\python311\\lib\\site-packages (from yfinance) (4.12.2)\n",
      "Requirement already satisfied: html5lib>=1.1 in c:\\users\\heber\\appdata\\local\\programs\\python\\python311\\lib\\site-packages (from yfinance) (1.1)\n",
      "Requirement already satisfied: soupsieve>1.2 in c:\\users\\heber\\appdata\\local\\programs\\python\\python311\\lib\\site-packages (from beautifulsoup4>=4.11.1->yfinance) (2.5)\n",
      "Requirement already satisfied: six>=1.9 in c:\\users\\heber\\appdata\\roaming\\python\\python311\\site-packages (from html5lib>=1.1->yfinance) (1.16.0)\n",
      "Requirement already satisfied: webencodings in c:\\users\\heber\\appdata\\local\\programs\\python\\python311\\lib\\site-packages (from html5lib>=1.1->yfinance) (0.5.1)\n",
      "Requirement already satisfied: python-dateutil>=2.8.2 in c:\\users\\heber\\appdata\\roaming\\python\\python311\\site-packages (from pandas>=1.3.0->yfinance) (2.8.2)\n",
      "Requirement already satisfied: tzdata>=2022.1 in c:\\users\\heber\\appdata\\local\\programs\\python\\python311\\lib\\site-packages (from pandas>=1.3.0->yfinance) (2023.3)\n",
      "Requirement already satisfied: charset-normalizer<4,>=2 in c:\\users\\heber\\appdata\\local\\programs\\python\\python311\\lib\\site-packages (from requests>=2.31->yfinance) (3.2.0)\n",
      "Requirement already satisfied: idna<4,>=2.5 in c:\\users\\heber\\appdata\\local\\programs\\python\\python311\\lib\\site-packages (from requests>=2.31->yfinance) (3.4)\n",
      "Requirement already satisfied: urllib3<3,>=1.21.1 in c:\\users\\heber\\appdata\\local\\programs\\python\\python311\\lib\\site-packages (from requests>=2.31->yfinance) (2.0.5)\n",
      "Requirement already satisfied: certifi>=2017.4.17 in c:\\users\\heber\\appdata\\local\\programs\\python\\python311\\lib\\site-packages (from requests>=2.31->yfinance) (2023.7.22)\n",
      "Note: you may need to restart the kernel to use updated packages.\n"
     ]
    },
    {
     "name": "stderr",
     "output_type": "stream",
     "text": [
      "\n",
      "[notice] A new release of pip available: 22.3.1 -> 23.2.1\n",
      "[notice] To update, run: python.exe -m pip install --upgrade pip\n"
     ]
    }
   ],
   "source": [
    "#Instalar bibliote de yfinance\n",
    "%pip install yfinance\n",
    "#Proporciona una interfaz conveniente para acceder y descargar datos financieros de Yahoo Finance\n",
    "# Importar el paquete de yohoo finance \n",
    "import yfinance "
   ]
  },
  {
   "cell_type": "code",
   "execution_count": 4,
   "metadata": {},
   "outputs": [],
   "source": [
    "# Ignorar mensajes de advertencia\n",
    "import warnings \n",
    "warnings.filterwarnings(\"ignore\")\n",
    "#Esto usado para suprimir temporalmente las advertencias generadas por Python o por las bibliotecas que estás utilizando."
   ]
  },
  {
   "cell_type": "code",
   "execution_count": 5,
   "metadata": {},
   "outputs": [
    {
     "name": "stdout",
     "output_type": "stream",
     "text": [
      "[*********************100%%**********************]  4 of 4 completed\n"
     ]
    }
   ],
   "source": [
    "# Using the .download() method to get our data\n",
    "\n",
    "raw_data = yfinance.download(tickers = \"^GSPC ^FTSE ^N225 ^GDAXI\", start = \"1994-01-06\", end = \"2023-09-23\", interval = \"1d\", group_by = 'ticker', auto_adjust = True, threads = True)\n",
    "\n",
    "# tickers -> Especifica los símbolos de los índices bursátiles que deseas descargar\n",
    "# start & end-> Definen el rango de fechas para el cual deseas obtener los datos históricos.\n",
    "# interval -> Indica el intervalo de tiempo de los datos que se descargan. En este caso, se establece en \"1d\", lo que significa que se descargan datos diarios.\n",
    "# group_by -> Agrupa los datos descargados por el símbolo del índice\n",
    "# auto_adjust ->  Si se establece en True, los precios de cierre se ajustarán automáticamente para dividir los dividendos y ajustar los eventos corporativos. \n",
    "#                 Esto es útil cuando se trabaja con datos de precios de acciones a largo plazo.                    \n",
    "# treads - > Argumento controla el número de hilos o threads utilizados para realizar las descargas de datos en paralelo"
   ]
  },
  {
   "cell_type": "code",
   "execution_count": 9,
   "metadata": {},
   "outputs": [],
   "source": [
    "# Crear un back up \n",
    "df_comp = raw_data.copy()  # Copia del DataFrame raw_data y la almacena en una nueva variable llamada df_comp"
   ]
  },
  {
   "cell_type": "code",
   "execution_count": 10,
   "metadata": {},
   "outputs": [],
   "source": [
    "# Agregar nuevas columnas al conjunto de datos\n",
    "df_comp['spx'] = df_comp['^GSPC'].Close\n",
    "df_comp['dax'] = df_comp['^GDAXI'].Close\n",
    "df_comp['ftse'] = df_comp['^FTSE'].Close\n",
    "df_comp['nikkei'] = df_comp['^N225'].Close"
   ]
  },
  {
   "cell_type": "code",
   "execution_count": 11,
   "metadata": {
    "scrolled": true
   },
   "outputs": [],
   "source": [
    "df_comp = df_comp.iloc[1:] # Elimina los primeros elementos, ya que siempre comenzamos 1 período antes del primero, debido a diferencias horarias de los precios de cierre.\n",
    "\n",
    "#Eliminar los tickers originales del conjunto de datos\n",
    "del df_comp['^N225'] \n",
    "del df_comp['^GSPC']\n",
    "del df_comp['^GDAXI']\n",
    "del df_comp['^FTSE']\n",
    "\n",
    "df_comp=df_comp.asfreq('b') # Los datos se organizaran con una frecuencia de días hábiles\n",
    "df_comp=df_comp.fillna(method='ffill') # Relleno hacia adelante"
   ]
  },
  {
   "cell_type": "code",
   "execution_count": 12,
   "metadata": {},
   "outputs": [
    {
     "name": "stdout",
     "output_type": "stream",
     "text": [
      "                   spx          dax         ftse        nikkei\n",
      "                                                              \n",
      "Date                                                          \n",
      "1994-01-07  469.899994  2224.949951  3446.000000  18124.009766\n",
      "1994-01-10  475.269989  2225.000000  3440.600098  18443.439453\n",
      "1994-01-11  474.130005  2228.100098  3413.800049  18485.250000\n",
      "1994-01-12  474.170013  2182.060059  3372.000000  18793.880859\n",
      "1994-01-13  472.470001  2142.370117  3360.000000  18577.259766\n",
      "                    spx           dax         ftse        nikkei\n",
      "                                                                \n",
      "Date                                                            \n",
      "2023-09-18  4453.529785  15727.120117  7652.899902  33533.089844\n",
      "2023-09-19  4443.950195  15664.480469  7660.200195  33242.589844\n",
      "2023-09-20  4402.200195  15781.589844  7731.700195  33023.781250\n",
      "2023-09-21  4330.000000  15571.860352  7678.600098  32571.029297\n",
      "2023-09-22  4320.060059  15557.290039  7683.899902  32402.410156\n"
     ]
    }
   ],
   "source": [
    "print (df_comp.head()) # Mostrar los primeros 5 elementos \n",
    "print (df_comp.tail()) # Muestra los ultimos elementos"
   ]
  },
  {
   "cell_type": "code",
   "execution_count": 14,
   "metadata": {},
   "outputs": [],
   "source": [
    "df_comp[\"spx\"]=round(df_comp[\"spx\"],2)\n",
    "df_comp[\"dax\"]=round(df_comp[\"dax\"],2)\n",
    "df_comp[\"ftse\"]=round(df_comp[\"ftse\"],2)\n",
    "df_comp[\"nikkei\"]=round(df_comp[\"nikkei\"],2)\n",
    "df_comp.to_csv(\"Index2023.csv\")"
   ]
  }
 ],
 "metadata": {
  "kernelspec": {
   "display_name": "Python 3",
   "language": "python",
   "name": "python3"
  },
  "language_info": {
   "codemirror_mode": {
    "name": "ipython",
    "version": 3
   },
   "file_extension": ".py",
   "mimetype": "text/x-python",
   "name": "python",
   "nbconvert_exporter": "python",
   "pygments_lexer": "ipython3",
   "version": "3.11.3"
  }
 },
 "nbformat": 4,
 "nbformat_minor": 2
}
